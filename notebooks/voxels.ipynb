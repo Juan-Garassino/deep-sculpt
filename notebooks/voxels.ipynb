{
  "cells": [
    {
      "cell_type": "code",
      "execution_count": null,
      "metadata": {
        "collapsed": false
      },
      "outputs": [],
      "source": [
        "%matplotlib inline"
      ]
    },
    {
      "cell_type": "markdown",
      "metadata": {},
      "source": [
        "\n",
        "# 3D voxel / volumetric plot\n",
        "\n",
        "Demonstrates plotting 3D volumetric objects with `.Axes3D.voxels`.\n"
      ]
    },
    {
      "cell_type": "code",
      "execution_count": 10,
      "metadata": {},
      "outputs": [
        {
          "data": {
            "text/plain": [
              "<Axes3DSubplot:>"
            ]
          },
          "execution_count": 10,
          "metadata": {},
          "output_type": "execute_result"
        }
      ],
      "source": [
        "ax"
      ]
    },
    {
      "cell_type": "code",
      "execution_count": 19,
      "metadata": {},
      "outputs": [
        {
          "data": {
            "text/plain": [
              "str"
            ]
          },
          "execution_count": 19,
          "metadata": {},
          "output_type": "execute_result"
        }
      ],
      "source": [
        "type(colors[0][0][0])"
      ]
    },
    {
      "cell_type": "code",
      "execution_count": 15,
      "metadata": {},
      "outputs": [
        {
          "data": {
            "text/plain": [
              "array([[['blue', 'blue', 'blue', None, None, None, None, None],\n",
              "        ['blue', 'blue', 'blue', None, None, None, None, None],\n",
              "        ['blue', 'blue', 'blue', None, None, None, None, None],\n",
              "        [None, None, None, None, None, None, None, None],\n",
              "        [None, None, None, None, None, None, None, None],\n",
              "        [None, None, None, None, None, None, None, None],\n",
              "        [None, None, None, None, None, None, None, None],\n",
              "        [None, None, None, None, None, None, None, None]],\n",
              "\n",
              "       [['blue', 'blue', 'blue', None, None, None, None, None],\n",
              "        ['blue', 'blue', 'blue', None, None, None, None, None],\n",
              "        ['blue', 'blue', 'blue', None, None, None, None, None],\n",
              "        [None, None, None, None, None, None, None, None],\n",
              "        [None, None, None, None, None, None, None, None],\n",
              "        [None, None, None, None, None, None, None, None],\n",
              "        [None, None, None, None, None, None, None, None],\n",
              "        [None, None, None, None, None, None, None, None]],\n",
              "\n",
              "       [['blue', 'blue', 'blue', None, None, None, None, None],\n",
              "        ['blue', 'blue', 'blue', None, None, None, None, None],\n",
              "        ['blue', 'blue', 'blue', '105,105,105', None, None, None, None],\n",
              "        [None, None, '105,105,105', '105,105,105', None, None, None,\n",
              "         None],\n",
              "        [None, None, None, None, None, None, None, None],\n",
              "        [None, None, None, None, None, None, None, None],\n",
              "        [None, None, None, None, None, None, None, None],\n",
              "        [None, None, None, None, None, None, None, None]],\n",
              "\n",
              "       [[None, None, None, None, None, None, None, None],\n",
              "        [None, None, None, None, None, None, None, None],\n",
              "        [None, None, '105,105,105', '105,105,105', None, None, None,\n",
              "         None],\n",
              "        [None, None, '105,105,105', '105,105,105', '105,105,105', None,\n",
              "         None, None],\n",
              "        [None, None, None, '105,105,105', '105,105,105', None, None,\n",
              "         None],\n",
              "        [None, None, None, None, None, None, None, None],\n",
              "        [None, None, None, None, None, None, None, None],\n",
              "        [None, None, None, None, None, None, None, None]],\n",
              "\n",
              "       [[None, None, None, None, None, None, None, None],\n",
              "        [None, None, None, None, None, None, None, None],\n",
              "        [None, None, None, None, None, None, None, None],\n",
              "        [None, None, None, '105,105,105', '105,105,105', None, None,\n",
              "         None],\n",
              "        [None, None, None, '105,105,105', '105,105,105', '105,105,105',\n",
              "         None, None],\n",
              "        [None, None, None, None, '105,105,105', '105,105,105', None,\n",
              "         None],\n",
              "        [None, None, None, None, None, None, None, None],\n",
              "        [None, None, None, None, None, None, None, None]],\n",
              "\n",
              "       [[None, None, None, None, None, None, None, None],\n",
              "        [None, None, None, None, None, None, None, None],\n",
              "        [None, None, None, None, None, None, None, None],\n",
              "        [None, None, None, None, None, None, None, None],\n",
              "        [None, None, None, None, '105,105,105', '105,105,105', None,\n",
              "         None],\n",
              "        [None, None, None, None, '105,105,105', 'green', 'green',\n",
              "         'green'],\n",
              "        [None, None, None, None, None, 'green', 'green', 'green'],\n",
              "        [None, None, None, None, None, 'green', 'green', 'green']],\n",
              "\n",
              "       [[None, None, None, None, None, None, None, None],\n",
              "        [None, None, None, None, None, None, None, None],\n",
              "        [None, None, None, None, None, None, None, None],\n",
              "        [None, None, None, None, None, None, None, None],\n",
              "        [None, None, None, None, None, None, None, None],\n",
              "        [None, None, None, None, None, 'green', 'green', 'green'],\n",
              "        [None, None, None, None, None, 'green', 'green', 'green'],\n",
              "        [None, None, None, None, None, 'green', 'green', 'green']],\n",
              "\n",
              "       [[None, None, None, None, None, None, None, None],\n",
              "        [None, None, None, None, None, None, None, None],\n",
              "        [None, None, None, None, None, None, None, None],\n",
              "        [None, None, None, None, None, None, None, None],\n",
              "        [None, None, None, None, None, None, None, None],\n",
              "        [None, None, None, None, None, 'green', 'green', 'green'],\n",
              "        [None, None, None, None, None, 'green', 'green', 'green'],\n",
              "        [None, None, None, None, None, 'green', 'green', 'green']]],\n",
              "      dtype=object)"
            ]
          },
          "execution_count": 15,
          "metadata": {},
          "output_type": "execute_result"
        }
      ],
      "source": [
        "colors"
      ]
    },
    {
      "cell_type": "code",
      "execution_count": 14,
      "metadata": {},
      "outputs": [
        {
          "data": {
            "text/plain": [
              "['105', '105', '105']"
            ]
          },
          "execution_count": 14,
          "metadata": {},
          "output_type": "execute_result"
        }
      ],
      "source": [
        "test = '105,105,105'\n",
        "\n",
        "test.split(',')"
      ]
    },
    {
      "cell_type": "code",
      "execution_count": 16,
      "metadata": {
        "collapsed": false
      },
      "outputs": [
        {
          "ename": "ValueError",
          "evalue": "'105,105,105' is not a valid color value.",
          "output_type": "error",
          "traceback": [
            "\u001b[0;31m---------------------------------------------------------------------------\u001b[0m",
            "\u001b[0;31mValueError\u001b[0m                                Traceback (most recent call last)",
            "Cell \u001b[0;32mIn[16], line 25\u001b[0m\n\u001b[1;32m     23\u001b[0m \u001b[39m# and plot everything\u001b[39;00m\n\u001b[1;32m     24\u001b[0m ax \u001b[39m=\u001b[39m plt\u001b[39m.\u001b[39mfigure()\u001b[39m.\u001b[39madd_subplot(projection\u001b[39m=\u001b[39m\u001b[39m'\u001b[39m\u001b[39m3d\u001b[39m\u001b[39m'\u001b[39m)\n\u001b[0;32m---> 25\u001b[0m ax\u001b[39m.\u001b[39;49mvoxels(voxelarray, facecolors\u001b[39m=\u001b[39;49mcolors, edgecolor\u001b[39m=\u001b[39;49m\u001b[39m'\u001b[39;49m\u001b[39mk\u001b[39;49m\u001b[39m'\u001b[39;49m)\n\u001b[1;32m     28\u001b[0m fig, axes \u001b[39m=\u001b[39m plt\u001b[39m.\u001b[39msubplots(\n\u001b[1;32m     29\u001b[0m     ncols\u001b[39m=\u001b[39m\u001b[39m2\u001b[39m,\n\u001b[1;32m     30\u001b[0m     nrows\u001b[39m=\u001b[39m\u001b[39m2\u001b[39m,\n\u001b[0;32m   (...)\u001b[0m\n\u001b[1;32m     34\u001b[0m     \u001b[39m#dpi=self.dpi,\u001b[39;00m\n\u001b[1;32m     35\u001b[0m )\n\u001b[1;32m     37\u001b[0m axes \u001b[39m=\u001b[39m axes\u001b[39m.\u001b[39mravel()  \u001b[39m# flats\u001b[39;00m\n",
            "File \u001b[0;32m~/.pyenv/versions/3.11/envs/deepSculpt/lib/python3.10/site-packages/mpl_toolkits/mplot3d/axes3d.py:2774\u001b[0m, in \u001b[0;36mAxes3D.voxels\u001b[0;34m(self, facecolors, edgecolors, shade, lightsource, *args, **kwargs)\u001b[0m\n\u001b[1;32m   2772\u001b[0m \u001b[39mif\u001b[39;00m shade:\n\u001b[1;32m   2773\u001b[0m     normals \u001b[39m=\u001b[39m \u001b[39mself\u001b[39m\u001b[39m.\u001b[39m_generate_normals(faces)\n\u001b[0;32m-> 2774\u001b[0m     facecolor \u001b[39m=\u001b[39m \u001b[39mself\u001b[39;49m\u001b[39m.\u001b[39;49m_shade_colors(facecolor, normals, lightsource)\n\u001b[1;32m   2775\u001b[0m     \u001b[39mif\u001b[39;00m edgecolor \u001b[39mis\u001b[39;00m \u001b[39mnot\u001b[39;00m \u001b[39mNone\u001b[39;00m:\n\u001b[1;32m   2776\u001b[0m         edgecolor \u001b[39m=\u001b[39m \u001b[39mself\u001b[39m\u001b[39m.\u001b[39m_shade_colors(\n\u001b[1;32m   2777\u001b[0m             edgecolor, normals, lightsource\n\u001b[1;32m   2778\u001b[0m         )\n",
            "File \u001b[0;32m~/.pyenv/versions/3.11/envs/deepSculpt/lib/python3.10/site-packages/mpl_toolkits/mplot3d/axes3d.py:1576\u001b[0m, in \u001b[0;36mAxes3D._shade_colors\u001b[0;34m(self, color, normals, lightsource)\u001b[0m\n\u001b[1;32m   1572\u001b[0m     \u001b[39mreturn\u001b[39;00m out_norm(in_norm(x))\n\u001b[1;32m   1574\u001b[0m shade[\u001b[39m~\u001b[39mmask] \u001b[39m=\u001b[39m \u001b[39m0\u001b[39m\n\u001b[0;32m-> 1576\u001b[0m color \u001b[39m=\u001b[39m mcolors\u001b[39m.\u001b[39;49mto_rgba_array(color)\n\u001b[1;32m   1577\u001b[0m \u001b[39m# shape of color should be (M, 4) (where M is number of faces)\u001b[39;00m\n\u001b[1;32m   1578\u001b[0m \u001b[39m# shape of shade should be (M,)\u001b[39;00m\n\u001b[1;32m   1579\u001b[0m \u001b[39m# colors should have final shape of (M, 4)\u001b[39;00m\n\u001b[1;32m   1580\u001b[0m alpha \u001b[39m=\u001b[39m color[:, \u001b[39m3\u001b[39m]\n",
            "File \u001b[0;32m~/.pyenv/versions/3.11/envs/deepSculpt/lib/python3.10/site-packages/matplotlib/colors.py:471\u001b[0m, in \u001b[0;36mto_rgba_array\u001b[0;34m(c, alpha)\u001b[0m\n\u001b[1;32m    468\u001b[0m     \u001b[39mpass\u001b[39;00m\n\u001b[1;32m    470\u001b[0m \u001b[39mif\u001b[39;00m \u001b[39misinstance\u001b[39m(c, \u001b[39mstr\u001b[39m):\n\u001b[0;32m--> 471\u001b[0m     \u001b[39mraise\u001b[39;00m \u001b[39mValueError\u001b[39;00m(\u001b[39mf\u001b[39m\u001b[39m\"\u001b[39m\u001b[39m{\u001b[39;00mc\u001b[39m!r}\u001b[39;00m\u001b[39m is not a valid color value.\u001b[39m\u001b[39m\"\u001b[39m)\n\u001b[1;32m    473\u001b[0m \u001b[39mif\u001b[39;00m \u001b[39mlen\u001b[39m(c) \u001b[39m==\u001b[39m \u001b[39m0\u001b[39m:\n\u001b[1;32m    474\u001b[0m     \u001b[39mreturn\u001b[39;00m np\u001b[39m.\u001b[39mzeros((\u001b[39m0\u001b[39m, \u001b[39m4\u001b[39m), \u001b[39mfloat\u001b[39m)\n",
            "\u001b[0;31mValueError\u001b[0m: '105,105,105' is not a valid color value."
          ]
        },
        {
          "data": {
            "image/png": "[encoded data removed]",
            "text/plain": [
              "<Figure size 640x480 with 1 Axes>"
            ]
          },
          "metadata": {},
          "output_type": "display_data"
        }
      ],
      "source": [
        "import matplotlib.pyplot as plt\n",
        "import numpy as np\n",
        "\n",
        "\n",
        "# prepare some coordinates\n",
        "x, y, z = np.indices((8, 8, 8))\n",
        "\n",
        "# draw cuboids in the top left and bottom right corners, and a link between\n",
        "# them\n",
        "cube1 = (x < 3) & (y < 3) & (z < 3)\n",
        "cube2 = (x >= 5) & (y >= 5) & (z >= 5)\n",
        "link = abs(x - y) + abs(y - z) + abs(z - x) <= 2\n",
        "\n",
        "# combine the objects into a single boolean array\n",
        "voxelarray = cube1 | cube2 | link\n",
        "\n",
        "# set the colors of each object\n",
        "colors = np.empty(voxelarray.shape, dtype=object)\n",
        "colors[link] = '105,105,105'\n",
        "colors[cube1] = '105,105,105'\n",
        "colors[cube2] = '105,105,105'\n",
        "\n",
        "# and plot everything\n",
        "ax = plt.figure().add_subplot(projection='3d')\n",
        "ax.voxels(voxelarray, facecolors=colors, edgecolor='k')\n",
        "\n",
        "\n",
        "fig, axes = plt.subplots(\n",
        "    ncols=2,\n",
        "    nrows=2,\n",
        "    figsize=(10, 10),\n",
        "    #facecolor=(style),\n",
        "    subplot_kw=dict(projection=\"3d\"),\n",
        "    #dpi=self.dpi,\n",
        ")\n",
        "\n",
        "axes = axes.ravel()  # flats\n",
        "\n",
        "axes[0].voxels(\n",
        "    voxelarray,\n",
        "    edgecolors=\"k\",\n",
        "    #linewidth=0.1,\n",
        "    facecolors=colors.split(','))\n",
        "    \n",
        "axes[1].voxels(\n",
        "    np.rot90(voxelarray, 1),\n",
        "    facecolors=np.rot90(colors.split(','), 1),\n",
        "    edgecolors=\"k\",\n",
        "    #linewidth=0.08,\n",
        ")\n",
        "\n",
        "axes[2].voxels(\n",
        "    np.rot90(voxelarray, 2),\n",
        "    facecolors=np.rot90(colors.split(','), 2),\n",
        "    edgecolors=\"k\",\n",
        "    #linewidth=0.05,\n",
        ")\n",
        "\n",
        "axes[3].voxels(\n",
        "    np.rot90(voxelarray, 3),\n",
        "    facecolors=np.rot90(colors.split(','), 3),\n",
        "    edgecolors=\"k\",\n",
        "    #linewidth=0.02,\n",
        ")\n",
        "\n",
        "plt.show()"
      ]
    },
    {
      "cell_type": "code",
      "execution_count": 9,
      "metadata": {},
      "outputs": [
        {
          "data": {
            "text/plain": [
              "NoneType"
            ]
          },
          "execution_count": 9,
          "metadata": {},
          "output_type": "execute_result"
        }
      ],
      "source": [
        "type(colors[0][-1][0])"
      ]
    },
    {
      "cell_type": "code",
      "execution_count": 3,
      "metadata": {},
      "outputs": [],
      "source": [
        "colors[0][0][0] = np.array([1,0,1])"
      ]
    },
    {
      "cell_type": "code",
      "execution_count": 4,
      "metadata": {},
      "outputs": [
        {
          "data": {
            "text/plain": [
              "array([[[array([1, 0, 1]), 'blue', 'blue', None, None, None, None, None],\n",
              "        ['blue', 'blue', 'blue', None, None, None, None, None],\n",
              "        ['blue', 'blue', 'blue', None, None, None, None, None],\n",
              "        [None, None, None, None, None, None, None, None],\n",
              "        [None, None, None, None, None, None, None, None],\n",
              "        [None, None, None, None, None, None, None, None],\n",
              "        [None, None, None, None, None, None, None, None],\n",
              "        [None, None, None, None, None, None, None, None]],\n",
              "\n",
              "       [['blue', 'blue', 'blue', None, None, None, None, None],\n",
              "        ['blue', 'blue', 'blue', None, None, None, None, None],\n",
              "        ['blue', 'blue', 'blue', None, None, None, None, None],\n",
              "        [None, None, None, None, None, None, None, None],\n",
              "        [None, None, None, None, None, None, None, None],\n",
              "        [None, None, None, None, None, None, None, None],\n",
              "        [None, None, None, None, None, None, None, None],\n",
              "        [None, None, None, None, None, None, None, None]],\n",
              "\n",
              "       [['blue', 'blue', 'blue', None, None, None, None, None],\n",
              "        ['blue', 'blue', 'blue', None, None, None, None, None],\n",
              "        ['blue', 'blue', 'blue', 'red', None, None, None, None],\n",
              "        [None, None, 'red', 'red', None, None, None, None],\n",
              "        [None, None, None, None, None, None, None, None],\n",
              "        [None, None, None, None, None, None, None, None],\n",
              "        [None, None, None, None, None, None, None, None],\n",
              "        [None, None, None, None, None, None, None, None]],\n",
              "\n",
              "       [[None, None, None, None, None, None, None, None],\n",
              "        [None, None, None, None, None, None, None, None],\n",
              "        [None, None, 'red', 'red', None, None, None, None],\n",
              "        [None, None, 'red', 'red', 'red', None, None, None],\n",
              "        [None, None, None, 'red', 'red', None, None, None],\n",
              "        [None, None, None, None, None, None, None, None],\n",
              "        [None, None, None, None, None, None, None, None],\n",
              "        [None, None, None, None, None, None, None, None]],\n",
              "\n",
              "       [[None, None, None, None, None, None, None, None],\n",
              "        [None, None, None, None, None, None, None, None],\n",
              "        [None, None, None, None, None, None, None, None],\n",
              "        [None, None, None, 'red', 'red', None, None, None],\n",
              "        [None, None, None, 'red', 'red', 'red', None, None],\n",
              "        [None, None, None, None, 'red', 'red', None, None],\n",
              "        [None, None, None, None, None, None, None, None],\n",
              "        [None, None, None, None, None, None, None, None]],\n",
              "\n",
              "       [[None, None, None, None, None, None, None, None],\n",
              "        [None, None, None, None, None, None, None, None],\n",
              "        [None, None, None, None, None, None, None, None],\n",
              "        [None, None, None, None, None, None, None, None],\n",
              "        [None, None, None, None, 'red', 'red', None, None],\n",
              "        [None, None, None, None, 'red', 'green', 'green', 'green'],\n",
              "        [None, None, None, None, None, 'green', 'green', 'green'],\n",
              "        [None, None, None, None, None, 'green', 'green', 'green']],\n",
              "\n",
              "       [[None, None, None, None, None, None, None, None],\n",
              "        [None, None, None, None, None, None, None, None],\n",
              "        [None, None, None, None, None, None, None, None],\n",
              "        [None, None, None, None, None, None, None, None],\n",
              "        [None, None, None, None, None, None, None, None],\n",
              "        [None, None, None, None, None, 'green', 'green', 'green'],\n",
              "        [None, None, None, None, None, 'green', 'green', 'green'],\n",
              "        [None, None, None, None, None, 'green', 'green', 'green']],\n",
              "\n",
              "       [[None, None, None, None, None, None, None, None],\n",
              "        [None, None, None, None, None, None, None, None],\n",
              "        [None, None, None, None, None, None, None, None],\n",
              "        [None, None, None, None, None, None, None, None],\n",
              "        [None, None, None, None, None, None, None, None],\n",
              "        [None, None, None, None, None, 'green', 'green', 'green'],\n",
              "        [None, None, None, None, None, 'green', 'green', 'green'],\n",
              "        [None, None, None, None, None, 'green', 'green', 'green']]],\n",
              "      dtype=object)"
            ]
          },
          "execution_count": 4,
          "metadata": {},
          "output_type": "execute_result"
        }
      ],
      "source": [
        "colors"
      ]
    },
    {
      "cell_type": "code",
      "execution_count": null,
      "metadata": {},
      "outputs": [],
      "source": []
    },
    {
      "cell_type": "code",
      "execution_count": null,
      "metadata": {},
      "outputs": [],
      "source": []
    }
  ],
  "metadata": {
    "kernelspec": {
      "display_name": "Python 3.10.6 64-bit ('deepSculpt')",
      "language": "python",
      "name": "python3"
    },
    "language_info": {
      "codemirror_mode": {
        "name": "ipython",
        "version": 3
      },
      "file_extension": ".py",
      "mimetype": "text/x-python",
      "name": "python",
      "nbconvert_exporter": "python",
      "pygments_lexer": "ipython3",
      "version": "3.10.6"
    },
    "vscode": {
      "interpreter": {
        "hash": "146207bf9063e20ed0f5559a845a0dcc883e3b1849222dcc98aced5d39f900d4"
      }
    }
  },
  "nbformat": 4,
  "nbformat_minor": 0
}
