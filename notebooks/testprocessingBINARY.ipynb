{
 "cells": [
  {
   "cell_type": "code",
   "execution_count": 1,
   "metadata": {},
   "outputs": [
    {
     "name": "stderr",
     "output_type": "stream",
     "text": [
      "2023-02-16 12:14:20.329783: I tensorflow/core/platform/cpu_feature_guard.cc:193] This TensorFlow binary is optimized with oneAPI Deep Neural Network Library (oneDNN) to use the following CPU instructions in performance-critical operations:  AVX2 FMA\n",
      "To enable them in other operations, rebuild TensorFlow with the appropriate compiler flags.\n",
      "2023-02-16 12:14:23.887222: I tensorflow/core/platform/cpu_feature_guard.cc:193] This TensorFlow binary is optimized with oneAPI Deep Neural Network Library (oneDNN) to use the following CPU instructions in performance-critical operations:  AVX2 FMA\n",
      "To enable them in other operations, rebuild TensorFlow with the appropriate compiler flags.\n"
     ]
    }
   ],
   "source": [
    "from deepSculpt.curator.tools.params import COLORS\n",
    "from deepSculpt.sculptor.sculptor import Sculptor\n",
    "from deepSculpt.manager.tools.plotter import Plotter\n",
    "from deepSculpt.curator.tools.new_preproccesing import BinaryEncoderDecoder\n",
    "\n",
    "import os"
   ]
  },
  {
   "cell_type": "code",
   "execution_count": 2,
   "metadata": {},
   "outputs": [
    {
     "name": "stdout",
     "output_type": "stream",
     "text": [
      "\n",
      " 🔽 \u001b[34mJust created 'volume_data' shaped (10, 48, 48, 48) and 'material_data' shaped(10, 48, 48, 48)\u001b[0m\n"
     ]
    }
   ],
   "source": [
    "from deepSculpt.curator.curator import Curator\n",
    "\n",
    "curator = Curator(\n",
    "    void_dim=48,\n",
    "    edge_elements=(3, 0.2, 0.6),\n",
    "    plane_elements=(3, 0.2, 0.6),\n",
    "    volume_elements=(3, 0.2, 0.6),\n",
    "    step=None,\n",
    "    grid=1,\n",
    "    directory='.',\n",
    "    n_samples=10,\n",
    ")\n",
    "\n",
    "# Creates the data\n",
    "volumes_void, materials_void = curator.create_sculpts()"
   ]
  },
  {
   "cell_type": "code",
   "execution_count": 3,
   "metadata": {},
   "outputs": [
    {
     "name": "stderr",
     "output_type": "stream",
     "text": [
      "/Users/juan-garassino/.pyenv/versions/3.10.6/envs/deepSculpt/lib/python3.10/site-packages/sklearn/preprocessing/_label.py:116: DataConversionWarning: A column-vector y was passed when a 1d array was expected. Please change the shape of y to (n_samples, ), for example using ravel().\n",
      "  y = column_or_1d(y, warn=True)\n"
     ]
    },
    {
     "name": "stdout",
     "output_type": "stream",
     "text": [
      "\n",
      "⏹ \u001b[31mA number of 10 samples shaped (10, 48, 48, 48) have been encoded to (10, 48, 48, 48, 3)in 6 classes: ['crimson' 'dimgrey' 'gold' 'snow' 'turquoise' None]\u001b[0m\n"
     ]
    }
   ],
   "source": [
    "preprocessing_class_b = BinaryEncoderDecoder(materials_void,)\n",
    "                                             #materials=materials_void,\n",
    "                                             #verbose=1)\n",
    "\n",
    "b_encode, b_classes = preprocessing_class_b.binary_encode()"
   ]
  },
  {
   "cell_type": "code",
   "execution_count": 4,
   "metadata": {},
   "outputs": [
    {
     "name": "stdout",
     "output_type": "stream",
     "text": [
      "\n",
      "⏹ \u001b[31mA number of 10 samples shaped (10, 48, 48, 48, 3) have been decoded to (10, 48, 48, 48)in 6 classes: ['crimson' 'dimgrey' 'gold' 'snow' 'turquoise' None]\n"
     ]
    }
   ],
   "source": [
    "decode_volumes_void, decode_materials_void = preprocessing_class_b.binary_decode(b_encode)\n"
   ]
  },
  {
   "cell_type": "code",
   "execution_count": null,
   "metadata": {},
   "outputs": [],
   "source": []
  }
 ],
 "metadata": {
  "kernelspec": {
   "display_name": "deepSculpt",
   "language": "python",
   "name": "python3"
  },
  "language_info": {
   "codemirror_mode": {
    "name": "ipython",
    "version": 3
   },
   "file_extension": ".py",
   "mimetype": "text/x-python",
   "name": "python",
   "nbconvert_exporter": "python",
   "pygments_lexer": "ipython3",
   "version": "3.10.6"
  },
  "orig_nbformat": 4,
  "vscode": {
   "interpreter": {
    "hash": "02a6a7a9e3b0643c690c7fe4ea79edc0cf95dce9a9eb5308797d894d1ed3608b"
   }
  }
 },
 "nbformat": 4,
 "nbformat_minor": 2
}
