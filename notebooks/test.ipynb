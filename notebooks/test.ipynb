{
 "cells": [
  {
   "cell_type": "code",
   "execution_count": null,
   "metadata": {},
   "outputs": [],
   "source": []
  },
  {
   "cell_type": "code",
   "execution_count": 1,
   "metadata": {},
   "outputs": [
    {
     "name": "stderr",
     "output_type": "stream",
     "text": [
      "2022-11-27 21:34:52.022773: W tensorflow/stream_executor/platform/default/dso_loader.cc:64] Could not load dynamic library 'libcudart.so.11.0'; dlerror: libcudart.so.11.0: cannot open shared object file: No such file or directory\n",
      "2022-11-27 21:34:52.022791: I tensorflow/stream_executor/cuda/cudart_stub.cc:29] Ignore above cudart dlerror if you do not have a GPU set up on your machine.\n",
      "2022-11-27 21:34:53.817038: E tensorflow/stream_executor/cuda/cuda_driver.cc:271] failed call to cuInit: CUDA_ERROR_UNKNOWN: unknown error\n",
      "2022-11-27 21:34:53.817081: I tensorflow/stream_executor/cuda/cuda_diagnostics.cc:156] kernel driver does not appear to be running on this host (celcius): /proc/driver/nvidia/version does not exist\n",
      "2022-11-27 21:34:53.817418: I tensorflow/core/platform/cpu_feature_guard.cc:193] This TensorFlow binary is optimized with oneAPI Deep Neural Network Library (oneDNN) to use the following CPU instructions in performance-critical operations:  AVX2 FMA\n",
      "To enable them in other operations, rebuild TensorFlow with the appropriate compiler flags.\n"
     ]
    },
    {
     "name": "stdout",
     "output_type": "stream",
     "text": [
      "\n",
      "🔽 \u001b[34mJust created 'raw_data' shaped (7, 128, 128, 128) and 'color_raw_data' shaped(7, 128, 128, 128)\u001b[0m\n"
     ]
    }
   ],
   "source": [
    "from deepSculpt.manager.tools.plotter import Plotter\n",
    "\n",
    "from deepSculpt.curator.curator import Curator\n",
    "\n",
    "import os\n",
    "\n",
    "sculptor =  Curator()\n",
    "\n",
    "out_dir = os.path.join(os.environ.get('HOME'), 'code', 'juan-garassino',\n",
    "                       'deepSculpt', 'data')\n",
    "\n",
    "volumes, colors = sculptor.create_sculpts(\n",
    "    out_dir,\n",
    "    n_samples=int(os.environ.get(\"N_SAMPLES_CREATE\")),\n",
    "    n_edge_elements=0,\n",
    "    n_plane_elements=0,\n",
    "    n_volume_elements=10,\n",
    "    color_edges=\"dimgrey\",\n",
    "    color_planes=\"snow\",\n",
    "    color_volumes=[\"crimson\", \"turquoise\", \"gold\"],\n",
    "    verbose=False,\n",
    "    void_dim=int(os.environ.get(\"VOID_DIM\")),\n",
    ")\n",
    "\n",
    "out_dir = os.path.join(os.environ.get('HOME'), 'code', 'juan-garassino',\n",
    "                       'deepSculpt', 'results', 'snapshots')\n"
   ]
  },
  {
   "cell_type": "code",
   "execution_count": null,
   "metadata": {},
   "outputs": [],
   "source": [
    "print(volumes.shape)"
   ]
  },
  {
   "cell_type": "code",
   "execution_count": 2,
   "metadata": {},
   "outputs": [
    {
     "name": "stdout",
     "output_type": "stream",
     "text": [
      "\n",
      "🔽 \u001b[34mJust created a snapshot image[27-11-2022-21-46].png @ /home/juan-garassino/code/juan-garassino/deepSculpt/results/snapshots\u001b[0m\n"
     ]
    }
   ],
   "source": [
    "sample = 1\n",
    "\n",
    "Plotter(volumes[sample], colors[sample]).plot_sculpture(out_dir)"
   ]
  },
  {
   "cell_type": "code",
   "execution_count": null,
   "metadata": {},
   "outputs": [],
   "source": [
    "sample = 2\n",
    "\n",
    "Plotter(volumes[sample], colors[sample]).plot_sculpture(out_dir)"
   ]
  },
  {
   "cell_type": "code",
   "execution_count": null,
   "metadata": {},
   "outputs": [],
   "source": [
    "import matplotlib.pyplot as plt\n",
    "import numpy as np\n",
    "from mpl_toolkits.mplot3d import Axes3D\n",
    "\n",
    "\n",
    "def explode(data):\n",
    "    size = np.array(data.shape)*2\n",
    "    data_e = np.zeros(size - 1, dtype=data.dtype)\n",
    "    data_e[::2, ::2, ::2] = data\n",
    "    return data_e\n",
    "\n",
    "# build up the numpy logo\n",
    "n_voxels = np.zeros((4, 3, 4), dtype=bool)\n",
    "n_voxels[0, 0, :] = True\n",
    "n_voxels[-1, 0, :] = True\n",
    "n_voxels[1, 0, 2] = True\n",
    "n_voxels[2, 0, 1] = True\n",
    "\n",
    "facecolors = np.where(n_voxels, '#FFD65DC0', '#7A88CCC0')\n",
    "\n",
    "edgecolors = np.where(n_voxels, '#BFAB6E', '#7D84A6')\n",
    "\n",
    "filled = np.ones(n_voxels.shape)\n",
    "\n",
    "# upscale the above voxel image, leaving gaps\n",
    "filled_2 = explode(filled)\n",
    "fcolors_2 = explode(facecolors)\n",
    "ecolors_2 = explode(edgecolors)\n",
    "\n",
    "# Shrink the gaps\n",
    "x, y, z = np.indices(np.array(filled_2.shape) + 1).astype(float) // 2\n",
    "x[0::2, :, :] += 0.05\n",
    "y[:, 0::2, :] += 0.05\n",
    "z[:, :, 0::2] += 0.05\n",
    "x[1::2, :, :] += 0.95\n",
    "y[:, 1::2, :] += 0.95\n",
    "z[:, :, 1::2] += 0.95\n",
    "\n",
    "fig = plt.figure()\n",
    "ax = fig.gca(projection='3d')\n",
    "ax.voxels(x, y, z, filled_2, facecolors=fcolors_2, edgecolors=ecolors_2)\n",
    "\n"
   ]
  },
  {
   "cell_type": "code",
   "execution_count": null,
   "metadata": {},
   "outputs": [],
   "source": [
    "import numpy as np\n",
    "import matplotlib.pyplot as plt\n",
    "\n",
    "listita = np.linspace(0,\n",
    "               1,\n",
    "               num=5,\n",
    "               endpoint=True,\n",
    "               retstep=False,\n",
    "               dtype=None,\n",
    "               axis=0)\n",
    "\n",
    "edge_scale = 0.55\n",
    "\n",
    "for i in listita:\n",
    "    for j in listita:\n",
    "        for h in listita:\n",
    "            for k in listita:\n",
    "                fig = plt.figure()\n",
    "\n",
    "                ax = fig.gca(projection='3d')\n",
    "\n",
    "                ax.voxels(x,\n",
    "                          y,\n",
    "                          z,\n",
    "                          filled_2,\n",
    "                          facecolors=[i, j, h, k],\n",
    "                          edgecolors=[\n",
    "                              i * edge_scale, j * edge_scale, h * edge_scale\n",
    "                          ])\n",
    "\n",
    "                plt.show()"
   ]
  },
  {
   "cell_type": "code",
   "execution_count": null,
   "metadata": {},
   "outputs": [],
   "source": [
    "sample = 5\n",
    "\n",
    "Plotter(volumes[sample], colors[sample]).plot_sculpture(out_dir)"
   ]
  },
  {
   "cell_type": "code",
   "execution_count": null,
   "metadata": {},
   "outputs": [],
   "source": []
  }
 ],
 "metadata": {
  "accelerator": "GPU",
  "colab": {
   "machine_shape": "hm",
   "name": "generate-elements.ipynb",
   "provenance": []
  },
  "kernelspec": {
   "display_name": "Python 3.8.12 64-bit ('deepSculpt')",
   "language": "python",
   "name": "python3"
  },
  "language_info": {
   "codemirror_mode": {
    "name": "ipython",
    "version": 3
   },
   "file_extension": ".py",
   "mimetype": "text/x-python",
   "name": "python",
   "nbconvert_exporter": "python",
   "pygments_lexer": "ipython3",
   "version": "3.8.12"
  },
  "vscode": {
   "interpreter": {
    "hash": "42ba456f7f4881c4daed571eedfb93fa4d8eadf64da182af03f8b82a58af3467"
   }
  }
 },
 "nbformat": 4,
 "nbformat_minor": 4
}
