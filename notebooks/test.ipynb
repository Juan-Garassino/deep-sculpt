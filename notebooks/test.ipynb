{
 "cells": [
  {
   "cell_type": "code",
   "execution_count": 14,
   "metadata": {},
   "outputs": [],
   "source": [
    "from deepSculpt.components.edges import add_edge\n",
    "\n",
    "import numpy as np\n",
    "\n",
    "from deepSculpt.params import (\n",
    "    VOID_DIM,\n",
    "    N_SAMPLES,\n",
    "    BUCKET_NAME,\n",
    "    BUCKET_TRAIN_DATA_PATH,\n",
    "    MODEL_BASE_PATH,\n",
    "    N_EDGE_ELEMENTS,\n",
    "    N_PLANE_ELEMENTS,\n",
    "    N_VOLUME_ELEMENTS,\n",
    "    COLOR_EDGES,\n",
    "    COLOR_PLANES,\n",
    "    COLOR_VOLUMES,\n",
    "    ELEMENT_EDGE_MIN,\n",
    "    ELEMENT_EDGE_MAX,\n",
    "    ELEMENT_GRID_MIN,\n",
    "    ELEMENT_GRID_MAX,\n",
    "    ELEMENT_PLANE_MIN,\n",
    "    ELEMENT_PLANE_MAX,\n",
    "    ELEMENT_VOLUME_MIN,\n",
    "    ELEMENT_VOLUME_MAX,\n",
    "    STEP,\n",
    "    VERBOSE\n",
    ")"
   ]
  },
  {
   "cell_type": "code",
   "execution_count": 15,
   "metadata": {},
   "outputs": [
    {
     "ename": "TypeError",
     "evalue": "return_axis() missing 1 required positional argument: 'self'",
     "output_type": "error",
     "traceback": [
      "\u001b[0;31m---------------------------------------------------------------------------\u001b[0m",
      "\u001b[0;31mTypeError\u001b[0m                                 Traceback (most recent call last)",
      "\u001b[1;32m/home/juan-garassino/code/juan-garassino/deepSculpt/notebooks/test.ipynb Cell 2'\u001b[0m in \u001b[0;36m<cell line: 5>\u001b[0;34m()\u001b[0m\n\u001b[1;32m      <a href='vscode-notebook-cell:/home/juan-garassino/code/juan-garassino/deepSculpt/notebooks/test.ipynb#ch0000012?line=0'>1</a>\u001b[0m void \u001b[39m=\u001b[39m np\u001b[39m.\u001b[39mzeros((VOID_DIM, VOID_DIM, VOID_DIM))\n\u001b[1;32m      <a href='vscode-notebook-cell:/home/juan-garassino/code/juan-garassino/deepSculpt/notebooks/test.ipynb#ch0000012?line=2'>3</a>\u001b[0m color_void \u001b[39m=\u001b[39m np\u001b[39m.\u001b[39mempty(void\u001b[39m.\u001b[39mshape, dtype\u001b[39m=\u001b[39m\u001b[39mobject\u001b[39m)\n\u001b[0;32m----> <a href='vscode-notebook-cell:/home/juan-garassino/code/juan-garassino/deepSculpt/notebooks/test.ipynb#ch0000012?line=4'>5</a>\u001b[0m add_edge(void, color_void, ELEMENT_EDGE_MIN, ELEMENT_EDGE_MAX, STEP, VERBOSE)\n",
      "File \u001b[0;32m~/.pyenv/versions/3.8.12/envs/deep-sculpt/lib/python3.8/site-packages/deepSculpt/components/edges.py:11\u001b[0m, in \u001b[0;36madd_edge\u001b[0;34m(void, color_void, element_edge_min, element_edge_max, step, verbose)\u001b[0m\n\u001b[1;32m      7\u001b[0m \u001b[39mdef\u001b[39;00m \u001b[39madd_edge\u001b[39m(\n\u001b[1;32m      8\u001b[0m     void, color_void, element_edge_min, element_edge_max, step, verbose\n\u001b[1;32m      9\u001b[0m ):  \u001b[39m# WHAT TO DO WITH THE WORKING PLANE PARAMETER\u001b[39;00m\n\u001b[0;32m---> 11\u001b[0m     working_plane \u001b[39m=\u001b[39m return_axis()[\u001b[39m0\u001b[39m]\n\u001b[1;32m     12\u001b[0m     color_parameters \u001b[39m=\u001b[39m return_axis()[\u001b[39m1\u001b[39m]\n\u001b[1;32m     13\u001b[0m     \u001b[39m# selection of the axis to work on\u001b[39;00m\n",
      "\u001b[0;31mTypeError\u001b[0m: return_axis() missing 1 required positional argument: 'self'"
     ]
    }
   ],
   "source": [
    "void = np.zeros((VOID_DIM, VOID_DIM, VOID_DIM))\n",
    "\n",
    "color_void = np.empty(void.shape, dtype=object)\n",
    "\n",
    "add_edge(void, color_void, ELEMENT_EDGE_MIN, ELEMENT_EDGE_MAX, STEP, VERBOSE)"
   ]
  },
  {
   "cell_type": "code",
   "execution_count": null,
   "metadata": {},
   "outputs": [],
   "source": []
  },
  {
   "cell_type": "code",
   "execution_count": null,
   "metadata": {},
   "outputs": [],
   "source": []
  },
  {
   "cell_type": "code",
   "execution_count": null,
   "metadata": {},
   "outputs": [],
   "source": []
  }
 ],
 "metadata": {
  "accelerator": "GPU",
  "colab": {
   "machine_shape": "hm",
   "name": "generate-elements.ipynb",
   "provenance": []
  },
  "kernelspec": {
   "display_name": "Python 3.8.12 64-bit ('deep-sculpt')",
   "language": "python",
   "name": "python3"
  },
  "language_info": {
   "codemirror_mode": {
    "name": "ipython",
    "version": 3
   },
   "file_extension": ".py",
   "mimetype": "text/x-python",
   "name": "python",
   "nbconvert_exporter": "python",
   "pygments_lexer": "ipython3",
   "version": "3.8.12"
  },
  "vscode": {
   "interpreter": {
    "hash": "4e1baa3cf990a70e82fbaa97c29267bb11315dca962bbbf68dd46dd6fa21fed7"
   }
  }
 },
 "nbformat": 4,
 "nbformat_minor": 4
}
