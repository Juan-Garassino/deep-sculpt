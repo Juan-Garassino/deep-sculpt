{
 "cells": [
  {
   "cell_type": "code",
   "execution_count": 1,
   "metadata": {},
   "outputs": [
    {
     "name": "stderr",
     "output_type": "stream",
     "text": [
      "2023-03-02 16:00:16.613051: I tensorflow/core/platform/cpu_feature_guard.cc:193] This TensorFlow binary is optimized with oneAPI Deep Neural Network Library (oneDNN) to use the following CPU instructions in performance-critical operations:  AVX2 FMA\n",
      "To enable them in other operations, rebuild TensorFlow with the appropriate compiler flags.\n",
      "2023-03-02 16:00:22.111590: I tensorflow/core/platform/cpu_feature_guard.cc:193] This TensorFlow binary is optimized with oneAPI Deep Neural Network Library (oneDNN) to use the following CPU instructions in performance-critical operations:  AVX2 FMA\n",
      "To enable them in other operations, rebuild TensorFlow with the appropriate compiler flags.\n"
     ]
    }
   ],
   "source": [
    "%load_ext autoreload\n",
    "%autoreload 2\n",
    "\n",
    "from deepSculpt.manager.tools.plotter import Plotter\n",
    "from deepSculpt.curator.tools.preprocessing import OneHotEncoderDecoder, RGBEncoderDecoder\n",
    "\n",
    "import os"
   ]
  },
  {
   "cell_type": "code",
   "execution_count": 2,
   "metadata": {},
   "outputs": [
    {
     "ename": "TypeError",
     "evalue": "Collector.__init__() got an unexpected keyword argument 'n_samples'",
     "output_type": "error",
     "traceback": [
      "\u001b[0;31m---------------------------------------------------------------------------\u001b[0m",
      "\u001b[0;31mTypeError\u001b[0m                                 Traceback (most recent call last)",
      "Cell \u001b[0;32mIn[2], line 3\u001b[0m\n\u001b[1;32m      1\u001b[0m \u001b[39mfrom\u001b[39;00m \u001b[39mdeepSculpt\u001b[39;00m\u001b[39m.\u001b[39;00m\u001b[39mcollector\u001b[39;00m\u001b[39m.\u001b[39;00m\u001b[39mcollector\u001b[39;00m \u001b[39mimport\u001b[39;00m Collector\n\u001b[0;32m----> 3\u001b[0m collector \u001b[39m=\u001b[39m Collector(\n\u001b[1;32m      4\u001b[0m     void_dim\u001b[39m=\u001b[39;49m\u001b[39mint\u001b[39;49m(os\u001b[39m.\u001b[39;49menviron\u001b[39m.\u001b[39;49mget(\u001b[39m\"\u001b[39;49m\u001b[39mVOID_DIM\u001b[39;49m\u001b[39m\"\u001b[39;49m)),\n\u001b[1;32m      5\u001b[0m     edge_elements\u001b[39m=\u001b[39;49m(\u001b[39m40\u001b[39;49m, \u001b[39m0.7\u001b[39;49m, \u001b[39m0.9\u001b[39;49m),\n\u001b[1;32m      6\u001b[0m     plane_elements\u001b[39m=\u001b[39;49m(\u001b[39m15\u001b[39;49m, \u001b[39m0.4\u001b[39;49m, \u001b[39m0.9\u001b[39;49m),\n\u001b[1;32m      7\u001b[0m     volume_elements\u001b[39m=\u001b[39;49m(\u001b[39m5\u001b[39;49m, \u001b[39m0.3\u001b[39;49m, \u001b[39m0.7\u001b[39;49m),\n\u001b[1;32m      8\u001b[0m     step\u001b[39m=\u001b[39;49m\u001b[39mNone\u001b[39;49;00m,\n\u001b[1;32m      9\u001b[0m     directory\u001b[39m=\u001b[39;49m\u001b[39m'\u001b[39;49m\u001b[39m.\u001b[39;49m\u001b[39m'\u001b[39;49m,\n\u001b[1;32m     10\u001b[0m     n_samples\u001b[39m=\u001b[39;49m\u001b[39m50\u001b[39;49m,\n\u001b[1;32m     11\u001b[0m     grid\u001b[39m=\u001b[39;49m\u001b[39m1\u001b[39;49m,\n\u001b[1;32m     12\u001b[0m )\n\u001b[1;32m     14\u001b[0m \u001b[39m# Creates the data\u001b[39;00m\n\u001b[1;32m     15\u001b[0m volumes_void, materials_void \u001b[39m=\u001b[39m collector\u001b[39m.\u001b[39mcreate_collection()\n",
      "\u001b[0;31mTypeError\u001b[0m: Collector.__init__() got an unexpected keyword argument 'n_samples'"
     ]
    }
   ],
   "source": [
    "from deepSculpt.collector.collector import Collector\n",
    "\n",
    "collector = Collector(\n",
    "    void_dim=int(os.environ.get(\"VOID_DIM\")),\n",
    "    edge_elements=(0, 0.3, 0.5),\n",
    "    plane_elements=(0, 0.3, 0.5),\n",
    "    volume_elements=(2, 0.3, 0.5),\n",
    "    step=None,\n",
    "    directory='.',\n",
    "    chunk_size=50,\n",
    "    n_chunks=1,\n",
    "    grid=1,\n",
    ")\n",
    "\n",
    "# Creates the data\n",
    "volumes_void, materials_void = collector.create_collection()"
   ]
  },
  {
   "cell_type": "code",
   "execution_count": null,
   "metadata": {},
   "outputs": [],
   "source": [
    "cloud = Plotter().voxel_to_pointscloud(volumes_void[35], 3)\n",
    "\n",
    "Plotter.plot_pointscloud(cloud[:, 0], cloud[:, 1], cloud[:, 2])"
   ]
  },
  {
   "cell_type": "code",
   "execution_count": null,
   "metadata": {},
   "outputs": [],
   "source": [
    "preprocessing_class_o = OneHotEncoderDecoder(materials_void, verbose=1)\n",
    "\n",
    "o_encode, o_classes = preprocessing_class_o.ohe_encode()"
   ]
  },
  {
   "cell_type": "code",
   "execution_count": null,
   "metadata": {},
   "outputs": [],
   "source": [
    "decode_volumes_void, decode_materials_void = preprocessing_class_o.ohe_decode(o_encode)\n"
   ]
  },
  {
   "cell_type": "code",
   "execution_count": null,
   "metadata": {},
   "outputs": [],
   "source": [
    "plot = Plotter(volumes=decode_volumes_void[0, :, :, :],\n",
    "               colors=decode_materials_void[0, :, :, :])\n",
    "\n",
    "out_dir = os.path.join(os.environ.get(\"HOME\"), \"code\", \"juan-garassino\",\n",
    "                       \"deepSculpt\", 'results')\n",
    "\n",
    "plot.plot_sculpture(out_dir, raster_picture=True, hide_axis=True)"
   ]
  },
  {
   "cell_type": "code",
   "execution_count": null,
   "metadata": {},
   "outputs": [],
   "source": [
    "plot = Plotter(volumes=decode_volumes_void[3, :, :, :],\n",
    "               colors=decode_materials_void[3, :, :, :])\n",
    "\n",
    "out_dir = os.path.join(os.environ.get(\"HOME\"), \"code\", \"juan-garassino\",\n",
    "                       \"deepSculpt\", 'results')\n",
    "\n",
    "plot.plot_sculpture(out_dir)"
   ]
  },
  {
   "cell_type": "code",
   "execution_count": null,
   "metadata": {},
   "outputs": [],
   "source": [
    "rgbencoder = RGBEncoderDecoder()\n",
    "\n",
    "rgb_encoded = rgbencoder.decode_color_array(materials_void)\n",
    "\n",
    "rgb_encoded.shape"
   ]
  },
  {
   "cell_type": "code",
   "execution_count": null,
   "metadata": {},
   "outputs": [],
   "source": [
    "test_volumes, test_colors = rgbencoder.encode_color_array(rgb_encoded)\n",
    "\n",
    "test_volumes.shape"
   ]
  },
  {
   "cell_type": "code",
   "execution_count": null,
   "metadata": {},
   "outputs": [],
   "source": [
    "plot = Plotter(volumes=test_volumes[0], colors=test_colors[0])\n",
    "\n",
    "out_dir = os.path.join(os.environ.get(\"HOME\"), \"code\", \"juan-garassino\",\n",
    "                       \"deepSculpt\", 'results')\n",
    "\n",
    "plot.plot_sculpture(out_dir)"
   ]
  },
  {
   "cell_type": "code",
   "execution_count": null,
   "metadata": {},
   "outputs": [],
   "source": []
  }
 ],
 "metadata": {
  "kernelspec": {
   "display_name": "deepSculpt",
   "language": "python",
   "name": "python3"
  },
  "language_info": {
   "codemirror_mode": {
    "name": "ipython",
    "version": 3
   },
   "file_extension": ".py",
   "mimetype": "text/x-python",
   "name": "python",
   "nbconvert_exporter": "python",
   "pygments_lexer": "ipython3",
   "version": "3.10.6"
  },
  "orig_nbformat": 4,
  "vscode": {
   "interpreter": {
    "hash": "02a6a7a9e3b0643c690c7fe4ea79edc0cf95dce9a9eb5308797d894d1ed3608b"
   }
  }
 },
 "nbformat": 4,
 "nbformat_minor": 2
}
