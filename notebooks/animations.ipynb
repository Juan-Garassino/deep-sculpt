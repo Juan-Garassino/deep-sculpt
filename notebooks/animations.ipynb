{
 "cells": [
  {
   "cell_type": "code",
   "execution_count": null,
   "metadata": {},
   "outputs": [],
   "source": [
    "import os\n",
    "from deepSculpt.manager.manager import Manager\n",
    "\n",
    "frames_path = os.path.join(os.environ.get('HOME'), 'Code', 'juan-garassino',\n",
    "                           'deepSculpt', 'results', 'snapshots', 'picture')\n",
    "\n",
    "Manager.create_animation(frames_path, output_name='fps5', fps=5)"
   ]
  }
 ],
 "metadata": {
  "kernelspec": {
   "display_name": "deepSculpt",
   "language": "python",
   "name": "python3"
  },
  "language_info": {
   "name": "python",
   "version": "3.10.6"
  },
  "orig_nbformat": 4,
  "vscode": {
   "interpreter": {
    "hash": "02a6a7a9e3b0643c690c7fe4ea79edc0cf95dce9a9eb5308797d894d1ed3608b"
   }
  }
 },
 "nbformat": 4,
 "nbformat_minor": 2
}
